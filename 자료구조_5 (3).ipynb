{
  "nbformat": 4,
  "nbformat_minor": 0,
  "metadata": {
    "colab": {
      "provenance": []
    },
    "kernelspec": {
      "name": "python3",
      "display_name": "Python 3"
    },
    "language_info": {
      "name": "python"
    }
  },
  "cells": [
    {
      "cell_type": "markdown",
      "source": [
        "#과제 3. 생일 데이터를 힙(heap.py)으로 저장하고, 생일이 늦은 순서로 10명의 친구를 출력하시오.\n"
      ],
      "metadata": {
        "id": "v3Ib-ZRg9QL3"
      }
    },
    {
      "cell_type": "code",
      "source": [
        "import pandas as pd\n",
        "from datetime import datetime\n",
        "\n",
        "class Heap:\n",
        "    def __init__(self, *args):\n",
        "        self.__A = args[0] if args else []\n",
        "\n",
        "    def insert(self, x):\n",
        "        self.__A.append(x)\n",
        "        self.__percolateUp(len(self.__A) - 1)\n",
        "\n",
        "    def __percolateUp(self, i):\n",
        "        parent = (i - 1) // 2\n",
        "        if i > 0 and self.__A[i][0] > self.__A[parent][0]:\n",
        "            self.__A[i], self.__A[parent] = self.__A[parent], self.__A[i]\n",
        "            self.__percolateUp(parent)\n",
        "\n",
        "    def deleteMax(self):\n",
        "        if not self.isEmpty():\n",
        "            max_item = self.__A[0]\n",
        "            self.__A[0] = self.__A.pop()\n",
        "            self.__percolateDown(0)\n",
        "            return max_item\n",
        "        return None\n",
        "\n",
        "    def __percolateDown(self, i):\n",
        "        child = 2 * i + 1\n",
        "        right = 2 * i + 2\n",
        "        if child <= len(self.__A) - 1:\n",
        "            if right <= len(self.__A) - 1 and self.__A[child][0] < self.__A[right][0]:\n",
        "                child = right\n",
        "            if self.__A[i][0] < self.__A[child][0]:\n",
        "                self.__A[i], self.__A[child] = self.__A[child], self.__A[i]\n",
        "                self.__percolateDown(child)\n",
        "\n",
        "    def isEmpty(self):\n",
        "        return len(self.__A) == 0\n",
        "\n",
        "df = pd.read_csv(\"birthday.csv\", encoding=\"utf-8\")\n",
        "df.columns = df.columns.str.strip()\n",
        "df[\"생년월일8자리(예.20040101)\"] = df[\"생년월일8자리(예.20040101)\"].fillna(0).astype(int).astype(str)\n",
        "\n",
        "heap = Heap()\n",
        "for _, row in df.iterrows():\n",
        "    try:\n",
        "        birth_date = datetime.strptime(row[\"생년월일8자리(예.20040101)\"], \"%Y%m%d\")\n",
        "        heap.insert((birth_date.timestamp(), row[\"이름\"]))\n",
        "    except:\n",
        "        continue\n",
        "\n",
        "print(\"생일이 늦은 순서로 10명의 친구:\")\n",
        "for i in range(10):\n",
        "    item = heap.deleteMax()\n",
        "    if item:\n",
        "        print(f\"{i+1}. 이름: {item[1]}, 생일: {datetime.fromtimestamp(item[0]).strftime('%Y-%m-%d')}\")\n"
      ],
      "metadata": {
        "colab": {
          "base_uri": "https://localhost:8080/"
        },
        "id": "JEec-kvvMmNh",
        "outputId": "c600fa30-fc1a-4382-bcaf-9c7d489fa8f8"
      },
      "execution_count": null,
      "outputs": [
        {
          "output_type": "stream",
          "name": "stdout",
          "text": [
            "생일이 늦은 순서로 10명의 친구:\n",
            "1. 이름: 신수민, 생일: 2005-12-30\n",
            "2. 이름: 이서영, 생일: 2005-12-25\n",
            "3. 이름: 강민주, 생일: 2005-12-14\n",
            "4. 이름: 김민경, 생일: 2005-12-02\n",
            "5. 이름: 이서영, 생일: 2005-11-12\n",
            "6. 이름: 배시은, 생일: 2005-11-02\n",
            "7. 이름: 김여원, 생일: 2005-10-31\n",
            "8. 이름: 이서진, 생일: 2005-10-28\n",
            "9. 이름: 서홍빈, 생일: 2005-10-24\n",
            "10. 이름: 김예빈, 생일: 2005-10-19\n"
          ]
        }
      ]
    },
    {
      "cell_type": "markdown",
      "source": [
        "# 과제 4. 생일 데이터를 circularDoublyLinkedList.py를 이용해 리스트에 저장하고, 같은 조 친구들의 이름과 생일만 출력하시오.\n"
      ],
      "metadata": {
        "id": "Xs-2N57r-Jrl"
      }
    },
    {
      "cell_type": "code",
      "source": [
        "import pandas as pd\n",
        "from circularDoublyLinkedList_FIXED_OK import CircularDoublyLinkedList\n",
        "\n",
        "group_members = ['김하린', '선예영', '이서진', '이승주', '조승연']\n",
        "\n",
        "df = pd.read_csv(\"birthday.csv\", encoding=\"utf-8\")\n",
        "df.columns = df.columns.str.strip()\n",
        "df[\"생년월일8자리(예.20040101)\"] = df[\"생년월일8자리(예.20040101)\"].fillna(0).astype(int).astype(str)\n",
        "\n",
        "cdll = CircularDoublyLinkedList()\n",
        "for _, row in df.iterrows():\n",
        "    cdll.append((row[\"이름\"], row[\"생년월일8자리(예.20040101)\"], str(row[\"학번\"])))\n",
        "\n",
        "print(\"우리 조 친구들의 생일 정보:\")\n",
        "for item in cdll:\n",
        "    name, birth, student_id = item\n",
        "    name = name.strip()\n",
        "\n",
        "    if name == \"이서진\" and not student_id.endswith(\"44\"):\n",
        "        continue\n",
        "\n",
        "    if name in group_members and birth.isdigit() and len(birth) == 8:\n",
        "        print(f\"이름: {name}, 생일: {birth[:4]}-{birth[4:6]}-{birth[6:]}\")\n"
      ],
      "metadata": {
        "colab": {
          "base_uri": "https://localhost:8080/"
        },
        "id": "Asi-KsXkYdf0",
        "outputId": "d1f23c77-4e5c-4880-a063-9afa5b69cd36"
      },
      "execution_count": 9,
      "outputs": [
        {
          "output_type": "stream",
          "name": "stdout",
          "text": [
            "우리 조 친구들의 생일 정보:\n",
            "이름: 김하린, 생일: 2003-02-12\n",
            "이름: 선예영, 생일: 2003-01-22\n",
            "이름: 이서진, 생일: 2005-10-28\n",
            "이름: 이승주, 생일: 2004-10-05\n",
            "이름: 조승연, 생일: 2005-01-19\n"
          ]
        }
      ]
    },
    {
      "cell_type": "markdown",
      "source": [
        "# 과제 5. 교제 8장 우선 순위 큐 연습문제"
      ],
      "metadata": {
        "id": "iY5JAarAmSFR"
      }
    },
    {
      "cell_type": "markdown",
      "source": [
        "1. 최대 힙에서 더 얕은 곳에 있는 원소가 더 깊은 곳에 있는 원소보다 작을 수 있다. 부모 ≥ 자식의 조건만 지키면 된다!\n",
        "\n",
        "2. 최대 힙에서 A[0]은 항상 가장 큰 값을 가지지만, A[n-1]은 반드시 가장 작은 값을 가지는 것은 아니다.\n",
        "\n",
        "3. buildHeap()에서 스며내리기를 수행하지 않고 그냥 넘어가는 원소(노드)의 수는 정확히 ⌊n/2⌋개이다.\n",
        "\n",
        "4. 스며내리기(percolateDown) 알고리즘의 최악의 경우 시간 복잡도는 Θ(log n)며 최선의 경우 시간 복잡도는 Θ(1)이다.\n",
        "\n",
        "5. 힙의 맨 마지막 원소를 삭제하는 것은 간단한 일이다.\n",
        "배열의 마지막 위치에서 삭제하면 되기 때문에 시간복잡도는 Θ(1)이다.\n",
        "\n",
        "6. 위에서부터 스며오르기를 반복하는 방식도 힙을 만들 수는 있지만 점근적 시간으로는 더 비효율적이며 위에서부터 스며오르기를 반복하는 방식도 힙을 만들 수는 있지만 점근적 시간으로는 더 비효율적이며 Θ(nlog n)이 걸린다. 반면 기존 buildHeap 방식은 Θ(n)이다.\n",
        "\n",
        "7. 최대 힙에서 임의의 원소 값이 증가하면,\n",
        "해당 원소가 부모보다 커질 수 있으므로 스며오르를 통해 힙 성질을 복구한다.\n",
        "이 과정은 O(log n) 시간에 수행된다.\n"
      ],
      "metadata": {
        "id": "6G5ujSOzrsdd"
      }
    },
    {
      "cell_type": "markdown",
      "source": [
        "# 과제 6. LeetCode 703.Kth Largest Element in Stream"
      ],
      "metadata": {
        "id": "EcaqseJ2rvMz"
      }
    },
    {
      "cell_type": "code",
      "source": [
        "import heapq\n",
        "\n",
        "class KthLargest:\n",
        "    def __init__(self, k: int, nums: list[int]):\n",
        "        self.k = k\n",
        "        self.heap = nums\n",
        "        heapq.heapify(self.heap)\n",
        "\n",
        "        while len(self.heap) > k:\n",
        "            heapq.heappop(self.heap)\n",
        "\n",
        "    def add(self, val: int) -> int:\n",
        "        heapq.heappush(self.heap, val)\n",
        "        if len(self.heap) > self.k:\n",
        "            heapq.heappop(self.heap)\n",
        "        return self.heap[0]"
      ],
      "metadata": {
        "id": "9QRM6ExbvDAG"
      },
      "execution_count": null,
      "outputs": []
    },
    {
      "cell_type": "markdown",
      "source": [
        "풀이.이 문제는 스트림에 새로운 숫자가 추가될 때마다 k번째로 큰 수를 반환하는 문제이다.\n",
        "이를 위해 최소힙을 사용하여 항상 k개의 가장 큰 수만 유지한다.\n",
        "새로운 값이 추가되면 힙에 넣고 크기가 k를 넘으면 가장 작은 값을 제거한다.\n",
        "이렇게 하면 힙의 루트가 항상 k번째로 큰 수가 되며 add() 함수는 O(log k) 시간에 동작한다. 따라서 효율적이고 최적화된 풀이가 가능하다."
      ],
      "metadata": {
        "id": "4GedVm8CyEGh"
      }
    }
  ]
}